{
  "nbformat": 4,
  "nbformat_minor": 0,
  "metadata": {
    "colab": {
      "name": "EmployeeAttritionPrediction.ipynb",
      "provenance": [],
      "collapsed_sections": []
    },
    "kernelspec": {
      "name": "python3",
      "display_name": "Python 3"
    },
    "language_info": {
      "name": "python"
    }
  },
  "cells": [
    {
      "cell_type": "code",
      "execution_count": 146,
      "metadata": {
        "id": "03obQEgTmHOc"
      },
      "outputs": [],
      "source": [
        "import numpy as np \n",
        "import pandas as pd \n",
        "import seaborn as sns\n",
        "import matplotlib.pyplot as plt\n",
        "import seaborn as sns\n",
        "sns.set_style(\"whitegrid\")\n",
        "import warnings\n",
        "warnings.filterwarnings('ignore') \n",
        "%matplotlib inline"
      ]
    },
    {
      "cell_type": "markdown",
      "source": [
        "**LOADING DATA**"
      ],
      "metadata": {
        "id": "n_dbL3QumtNh"
      }
    },
    {
      "cell_type": "code",
      "source": [
        "data = pd.read_csv('train_data.csv')\n",
        "data.head()"
      ],
      "metadata": {
        "colab": {
          "base_uri": "https://localhost:8080/",
          "height": 392
        },
        "id": "Yzq0szGqmw8t",
        "outputId": "b320cc92-7024-4a04-d477-e459092389fa"
      },
      "execution_count": 147,
      "outputs": [
        {
          "output_type": "execute_result",
          "data": {
            "text/plain": [
              "       MMM-YY  Emp_ID  Age Gender City Education_Level  Salary Dateofjoining  \\\n",
              "0  2016-01-01       1   28   Male  C23          Master   57387    2015-12-24   \n",
              "1  2016-02-01       1   28   Male  C23          Master   57387    2015-12-24   \n",
              "2  2016-03-01       1   28   Male  C23          Master   57387    2015-12-24   \n",
              "3  2017-11-01       2   31   Male   C7          Master   67016    2017-11-06   \n",
              "4  2017-12-01       2   31   Male   C7          Master   67016    2017-11-06   \n",
              "\n",
              "  LastWorkingDate  Joining Designation  Designation  Total Business Value  \\\n",
              "0             NaN                    1            1               2381060   \n",
              "1             NaN                    1            1               -665480   \n",
              "2      2016-03-11                    1            1                     0   \n",
              "3             NaN                    2            2                     0   \n",
              "4             NaN                    2            2                     0   \n",
              "\n",
              "   Quarterly Rating  \n",
              "0                 2  \n",
              "1                 2  \n",
              "2                 2  \n",
              "3                 1  \n",
              "4                 1  "
            ],
            "text/html": [
              "\n",
              "  <div id=\"df-da856805-ab8a-42f5-b6f7-8832a299c2a0\">\n",
              "    <div class=\"colab-df-container\">\n",
              "      <div>\n",
              "<style scoped>\n",
              "    .dataframe tbody tr th:only-of-type {\n",
              "        vertical-align: middle;\n",
              "    }\n",
              "\n",
              "    .dataframe tbody tr th {\n",
              "        vertical-align: top;\n",
              "    }\n",
              "\n",
              "    .dataframe thead th {\n",
              "        text-align: right;\n",
              "    }\n",
              "</style>\n",
              "<table border=\"1\" class=\"dataframe\">\n",
              "  <thead>\n",
              "    <tr style=\"text-align: right;\">\n",
              "      <th></th>\n",
              "      <th>MMM-YY</th>\n",
              "      <th>Emp_ID</th>\n",
              "      <th>Age</th>\n",
              "      <th>Gender</th>\n",
              "      <th>City</th>\n",
              "      <th>Education_Level</th>\n",
              "      <th>Salary</th>\n",
              "      <th>Dateofjoining</th>\n",
              "      <th>LastWorkingDate</th>\n",
              "      <th>Joining Designation</th>\n",
              "      <th>Designation</th>\n",
              "      <th>Total Business Value</th>\n",
              "      <th>Quarterly Rating</th>\n",
              "    </tr>\n",
              "  </thead>\n",
              "  <tbody>\n",
              "    <tr>\n",
              "      <th>0</th>\n",
              "      <td>2016-01-01</td>\n",
              "      <td>1</td>\n",
              "      <td>28</td>\n",
              "      <td>Male</td>\n",
              "      <td>C23</td>\n",
              "      <td>Master</td>\n",
              "      <td>57387</td>\n",
              "      <td>2015-12-24</td>\n",
              "      <td>NaN</td>\n",
              "      <td>1</td>\n",
              "      <td>1</td>\n",
              "      <td>2381060</td>\n",
              "      <td>2</td>\n",
              "    </tr>\n",
              "    <tr>\n",
              "      <th>1</th>\n",
              "      <td>2016-02-01</td>\n",
              "      <td>1</td>\n",
              "      <td>28</td>\n",
              "      <td>Male</td>\n",
              "      <td>C23</td>\n",
              "      <td>Master</td>\n",
              "      <td>57387</td>\n",
              "      <td>2015-12-24</td>\n",
              "      <td>NaN</td>\n",
              "      <td>1</td>\n",
              "      <td>1</td>\n",
              "      <td>-665480</td>\n",
              "      <td>2</td>\n",
              "    </tr>\n",
              "    <tr>\n",
              "      <th>2</th>\n",
              "      <td>2016-03-01</td>\n",
              "      <td>1</td>\n",
              "      <td>28</td>\n",
              "      <td>Male</td>\n",
              "      <td>C23</td>\n",
              "      <td>Master</td>\n",
              "      <td>57387</td>\n",
              "      <td>2015-12-24</td>\n",
              "      <td>2016-03-11</td>\n",
              "      <td>1</td>\n",
              "      <td>1</td>\n",
              "      <td>0</td>\n",
              "      <td>2</td>\n",
              "    </tr>\n",
              "    <tr>\n",
              "      <th>3</th>\n",
              "      <td>2017-11-01</td>\n",
              "      <td>2</td>\n",
              "      <td>31</td>\n",
              "      <td>Male</td>\n",
              "      <td>C7</td>\n",
              "      <td>Master</td>\n",
              "      <td>67016</td>\n",
              "      <td>2017-11-06</td>\n",
              "      <td>NaN</td>\n",
              "      <td>2</td>\n",
              "      <td>2</td>\n",
              "      <td>0</td>\n",
              "      <td>1</td>\n",
              "    </tr>\n",
              "    <tr>\n",
              "      <th>4</th>\n",
              "      <td>2017-12-01</td>\n",
              "      <td>2</td>\n",
              "      <td>31</td>\n",
              "      <td>Male</td>\n",
              "      <td>C7</td>\n",
              "      <td>Master</td>\n",
              "      <td>67016</td>\n",
              "      <td>2017-11-06</td>\n",
              "      <td>NaN</td>\n",
              "      <td>2</td>\n",
              "      <td>2</td>\n",
              "      <td>0</td>\n",
              "      <td>1</td>\n",
              "    </tr>\n",
              "  </tbody>\n",
              "</table>\n",
              "</div>\n",
              "      <button class=\"colab-df-convert\" onclick=\"convertToInteractive('df-da856805-ab8a-42f5-b6f7-8832a299c2a0')\"\n",
              "              title=\"Convert this dataframe to an interactive table.\"\n",
              "              style=\"display:none;\">\n",
              "        \n",
              "  <svg xmlns=\"http://www.w3.org/2000/svg\" height=\"24px\"viewBox=\"0 0 24 24\"\n",
              "       width=\"24px\">\n",
              "    <path d=\"M0 0h24v24H0V0z\" fill=\"none\"/>\n",
              "    <path d=\"M18.56 5.44l.94 2.06.94-2.06 2.06-.94-2.06-.94-.94-2.06-.94 2.06-2.06.94zm-11 1L8.5 8.5l.94-2.06 2.06-.94-2.06-.94L8.5 2.5l-.94 2.06-2.06.94zm10 10l.94 2.06.94-2.06 2.06-.94-2.06-.94-.94-2.06-.94 2.06-2.06.94z\"/><path d=\"M17.41 7.96l-1.37-1.37c-.4-.4-.92-.59-1.43-.59-.52 0-1.04.2-1.43.59L10.3 9.45l-7.72 7.72c-.78.78-.78 2.05 0 2.83L4 21.41c.39.39.9.59 1.41.59.51 0 1.02-.2 1.41-.59l7.78-7.78 2.81-2.81c.8-.78.8-2.07 0-2.86zM5.41 20L4 18.59l7.72-7.72 1.47 1.35L5.41 20z\"/>\n",
              "  </svg>\n",
              "      </button>\n",
              "      \n",
              "  <style>\n",
              "    .colab-df-container {\n",
              "      display:flex;\n",
              "      flex-wrap:wrap;\n",
              "      gap: 12px;\n",
              "    }\n",
              "\n",
              "    .colab-df-convert {\n",
              "      background-color: #E8F0FE;\n",
              "      border: none;\n",
              "      border-radius: 50%;\n",
              "      cursor: pointer;\n",
              "      display: none;\n",
              "      fill: #1967D2;\n",
              "      height: 32px;\n",
              "      padding: 0 0 0 0;\n",
              "      width: 32px;\n",
              "    }\n",
              "\n",
              "    .colab-df-convert:hover {\n",
              "      background-color: #E2EBFA;\n",
              "      box-shadow: 0px 1px 2px rgba(60, 64, 67, 0.3), 0px 1px 3px 1px rgba(60, 64, 67, 0.15);\n",
              "      fill: #174EA6;\n",
              "    }\n",
              "\n",
              "    [theme=dark] .colab-df-convert {\n",
              "      background-color: #3B4455;\n",
              "      fill: #D2E3FC;\n",
              "    }\n",
              "\n",
              "    [theme=dark] .colab-df-convert:hover {\n",
              "      background-color: #434B5C;\n",
              "      box-shadow: 0px 1px 3px 1px rgba(0, 0, 0, 0.15);\n",
              "      filter: drop-shadow(0px 1px 2px rgba(0, 0, 0, 0.3));\n",
              "      fill: #FFFFFF;\n",
              "    }\n",
              "  </style>\n",
              "\n",
              "      <script>\n",
              "        const buttonEl =\n",
              "          document.querySelector('#df-da856805-ab8a-42f5-b6f7-8832a299c2a0 button.colab-df-convert');\n",
              "        buttonEl.style.display =\n",
              "          google.colab.kernel.accessAllowed ? 'block' : 'none';\n",
              "\n",
              "        async function convertToInteractive(key) {\n",
              "          const element = document.querySelector('#df-da856805-ab8a-42f5-b6f7-8832a299c2a0');\n",
              "          const dataTable =\n",
              "            await google.colab.kernel.invokeFunction('convertToInteractive',\n",
              "                                                     [key], {});\n",
              "          if (!dataTable) return;\n",
              "\n",
              "          const docLinkHtml = 'Like what you see? Visit the ' +\n",
              "            '<a target=\"_blank\" href=https://colab.research.google.com/notebooks/data_table.ipynb>data table notebook</a>'\n",
              "            + ' to learn more about interactive tables.';\n",
              "          element.innerHTML = '';\n",
              "          dataTable['output_type'] = 'display_data';\n",
              "          await google.colab.output.renderOutput(dataTable, element);\n",
              "          const docLink = document.createElement('div');\n",
              "          docLink.innerHTML = docLinkHtml;\n",
              "          element.appendChild(docLink);\n",
              "        }\n",
              "      </script>\n",
              "    </div>\n",
              "  </div>\n",
              "  "
            ]
          },
          "metadata": {},
          "execution_count": 147
        }
      ]
    },
    {
      "cell_type": "code",
      "source": [
        "data.info()"
      ],
      "metadata": {
        "colab": {
          "base_uri": "https://localhost:8080/"
        },
        "id": "hidFjI-cnV75",
        "outputId": "ff486612-a1c7-42b2-87f1-ae80dd1b3127"
      },
      "execution_count": 148,
      "outputs": [
        {
          "output_type": "stream",
          "name": "stdout",
          "text": [
            "<class 'pandas.core.frame.DataFrame'>\n",
            "RangeIndex: 19104 entries, 0 to 19103\n",
            "Data columns (total 13 columns):\n",
            " #   Column                Non-Null Count  Dtype \n",
            "---  ------                --------------  ----- \n",
            " 0   MMM-YY                19104 non-null  object\n",
            " 1   Emp_ID                19104 non-null  int64 \n",
            " 2   Age                   19104 non-null  int64 \n",
            " 3   Gender                19104 non-null  object\n",
            " 4   City                  19104 non-null  object\n",
            " 5   Education_Level       19104 non-null  object\n",
            " 6   Salary                19104 non-null  int64 \n",
            " 7   Dateofjoining         19104 non-null  object\n",
            " 8   LastWorkingDate       1616 non-null   object\n",
            " 9   Joining Designation   19104 non-null  int64 \n",
            " 10  Designation           19104 non-null  int64 \n",
            " 11  Total Business Value  19104 non-null  int64 \n",
            " 12  Quarterly Rating      19104 non-null  int64 \n",
            "dtypes: int64(7), object(6)\n",
            "memory usage: 1.9+ MB\n"
          ]
        }
      ]
    },
    {
      "cell_type": "markdown",
      "source": [
        "**CHECKING FOR NULL VALUES**"
      ],
      "metadata": {
        "id": "HalKK6cfkPew"
      }
    },
    {
      "cell_type": "code",
      "source": [
        "data.isnull().sum()"
      ],
      "metadata": {
        "colab": {
          "base_uri": "https://localhost:8080/"
        },
        "id": "fREka1U-npho",
        "outputId": "65eeeef3-1c71-47e1-d0e6-65275e1f759e"
      },
      "execution_count": 149,
      "outputs": [
        {
          "output_type": "execute_result",
          "data": {
            "text/plain": [
              "MMM-YY                      0\n",
              "Emp_ID                      0\n",
              "Age                         0\n",
              "Gender                      0\n",
              "City                        0\n",
              "Education_Level             0\n",
              "Salary                      0\n",
              "Dateofjoining               0\n",
              "LastWorkingDate         17488\n",
              "Joining Designation         0\n",
              "Designation                 0\n",
              "Total Business Value        0\n",
              "Quarterly Rating            0\n",
              "dtype: int64"
            ]
          },
          "metadata": {},
          "execution_count": 149
        }
      ]
    },
    {
      "cell_type": "markdown",
      "source": [
        "**CREATING TARGET COLUMN**"
      ],
      "metadata": {
        "id": "4qcG2r38kRl5"
      }
    },
    {
      "cell_type": "markdown",
      "source": [
        "The dataset has no target column. However, the business goal is on employee attrition. That mean employes whose last date is known are those who left the company. Hence, this can be manipulated to create a target column"
      ],
      "metadata": {
        "id": "FJ1SzGjokVoX"
      }
    },
    {
      "cell_type": "code",
      "source": [
        "data['Target']=np.where(data['LastWorkingDate'].isnull(),0,1)\n",
        "data.head()"
      ],
      "metadata": {
        "colab": {
          "base_uri": "https://localhost:8080/",
          "height": 392
        },
        "id": "daWlellGnycc",
        "outputId": "502e3940-c733-4c43-adc9-53e2a6d1cce0"
      },
      "execution_count": 150,
      "outputs": [
        {
          "output_type": "execute_result",
          "data": {
            "text/plain": [
              "       MMM-YY  Emp_ID  Age Gender City Education_Level  Salary Dateofjoining  \\\n",
              "0  2016-01-01       1   28   Male  C23          Master   57387    2015-12-24   \n",
              "1  2016-02-01       1   28   Male  C23          Master   57387    2015-12-24   \n",
              "2  2016-03-01       1   28   Male  C23          Master   57387    2015-12-24   \n",
              "3  2017-11-01       2   31   Male   C7          Master   67016    2017-11-06   \n",
              "4  2017-12-01       2   31   Male   C7          Master   67016    2017-11-06   \n",
              "\n",
              "  LastWorkingDate  Joining Designation  Designation  Total Business Value  \\\n",
              "0             NaN                    1            1               2381060   \n",
              "1             NaN                    1            1               -665480   \n",
              "2      2016-03-11                    1            1                     0   \n",
              "3             NaN                    2            2                     0   \n",
              "4             NaN                    2            2                     0   \n",
              "\n",
              "   Quarterly Rating  Target  \n",
              "0                 2       0  \n",
              "1                 2       0  \n",
              "2                 2       1  \n",
              "3                 1       0  \n",
              "4                 1       0  "
            ],
            "text/html": [
              "\n",
              "  <div id=\"df-ba1613a0-ef78-4ce5-b235-fdde9bbe51dc\">\n",
              "    <div class=\"colab-df-container\">\n",
              "      <div>\n",
              "<style scoped>\n",
              "    .dataframe tbody tr th:only-of-type {\n",
              "        vertical-align: middle;\n",
              "    }\n",
              "\n",
              "    .dataframe tbody tr th {\n",
              "        vertical-align: top;\n",
              "    }\n",
              "\n",
              "    .dataframe thead th {\n",
              "        text-align: right;\n",
              "    }\n",
              "</style>\n",
              "<table border=\"1\" class=\"dataframe\">\n",
              "  <thead>\n",
              "    <tr style=\"text-align: right;\">\n",
              "      <th></th>\n",
              "      <th>MMM-YY</th>\n",
              "      <th>Emp_ID</th>\n",
              "      <th>Age</th>\n",
              "      <th>Gender</th>\n",
              "      <th>City</th>\n",
              "      <th>Education_Level</th>\n",
              "      <th>Salary</th>\n",
              "      <th>Dateofjoining</th>\n",
              "      <th>LastWorkingDate</th>\n",
              "      <th>Joining Designation</th>\n",
              "      <th>Designation</th>\n",
              "      <th>Total Business Value</th>\n",
              "      <th>Quarterly Rating</th>\n",
              "      <th>Target</th>\n",
              "    </tr>\n",
              "  </thead>\n",
              "  <tbody>\n",
              "    <tr>\n",
              "      <th>0</th>\n",
              "      <td>2016-01-01</td>\n",
              "      <td>1</td>\n",
              "      <td>28</td>\n",
              "      <td>Male</td>\n",
              "      <td>C23</td>\n",
              "      <td>Master</td>\n",
              "      <td>57387</td>\n",
              "      <td>2015-12-24</td>\n",
              "      <td>NaN</td>\n",
              "      <td>1</td>\n",
              "      <td>1</td>\n",
              "      <td>2381060</td>\n",
              "      <td>2</td>\n",
              "      <td>0</td>\n",
              "    </tr>\n",
              "    <tr>\n",
              "      <th>1</th>\n",
              "      <td>2016-02-01</td>\n",
              "      <td>1</td>\n",
              "      <td>28</td>\n",
              "      <td>Male</td>\n",
              "      <td>C23</td>\n",
              "      <td>Master</td>\n",
              "      <td>57387</td>\n",
              "      <td>2015-12-24</td>\n",
              "      <td>NaN</td>\n",
              "      <td>1</td>\n",
              "      <td>1</td>\n",
              "      <td>-665480</td>\n",
              "      <td>2</td>\n",
              "      <td>0</td>\n",
              "    </tr>\n",
              "    <tr>\n",
              "      <th>2</th>\n",
              "      <td>2016-03-01</td>\n",
              "      <td>1</td>\n",
              "      <td>28</td>\n",
              "      <td>Male</td>\n",
              "      <td>C23</td>\n",
              "      <td>Master</td>\n",
              "      <td>57387</td>\n",
              "      <td>2015-12-24</td>\n",
              "      <td>2016-03-11</td>\n",
              "      <td>1</td>\n",
              "      <td>1</td>\n",
              "      <td>0</td>\n",
              "      <td>2</td>\n",
              "      <td>1</td>\n",
              "    </tr>\n",
              "    <tr>\n",
              "      <th>3</th>\n",
              "      <td>2017-11-01</td>\n",
              "      <td>2</td>\n",
              "      <td>31</td>\n",
              "      <td>Male</td>\n",
              "      <td>C7</td>\n",
              "      <td>Master</td>\n",
              "      <td>67016</td>\n",
              "      <td>2017-11-06</td>\n",
              "      <td>NaN</td>\n",
              "      <td>2</td>\n",
              "      <td>2</td>\n",
              "      <td>0</td>\n",
              "      <td>1</td>\n",
              "      <td>0</td>\n",
              "    </tr>\n",
              "    <tr>\n",
              "      <th>4</th>\n",
              "      <td>2017-12-01</td>\n",
              "      <td>2</td>\n",
              "      <td>31</td>\n",
              "      <td>Male</td>\n",
              "      <td>C7</td>\n",
              "      <td>Master</td>\n",
              "      <td>67016</td>\n",
              "      <td>2017-11-06</td>\n",
              "      <td>NaN</td>\n",
              "      <td>2</td>\n",
              "      <td>2</td>\n",
              "      <td>0</td>\n",
              "      <td>1</td>\n",
              "      <td>0</td>\n",
              "    </tr>\n",
              "  </tbody>\n",
              "</table>\n",
              "</div>\n",
              "      <button class=\"colab-df-convert\" onclick=\"convertToInteractive('df-ba1613a0-ef78-4ce5-b235-fdde9bbe51dc')\"\n",
              "              title=\"Convert this dataframe to an interactive table.\"\n",
              "              style=\"display:none;\">\n",
              "        \n",
              "  <svg xmlns=\"http://www.w3.org/2000/svg\" height=\"24px\"viewBox=\"0 0 24 24\"\n",
              "       width=\"24px\">\n",
              "    <path d=\"M0 0h24v24H0V0z\" fill=\"none\"/>\n",
              "    <path d=\"M18.56 5.44l.94 2.06.94-2.06 2.06-.94-2.06-.94-.94-2.06-.94 2.06-2.06.94zm-11 1L8.5 8.5l.94-2.06 2.06-.94-2.06-.94L8.5 2.5l-.94 2.06-2.06.94zm10 10l.94 2.06.94-2.06 2.06-.94-2.06-.94-.94-2.06-.94 2.06-2.06.94z\"/><path d=\"M17.41 7.96l-1.37-1.37c-.4-.4-.92-.59-1.43-.59-.52 0-1.04.2-1.43.59L10.3 9.45l-7.72 7.72c-.78.78-.78 2.05 0 2.83L4 21.41c.39.39.9.59 1.41.59.51 0 1.02-.2 1.41-.59l7.78-7.78 2.81-2.81c.8-.78.8-2.07 0-2.86zM5.41 20L4 18.59l7.72-7.72 1.47 1.35L5.41 20z\"/>\n",
              "  </svg>\n",
              "      </button>\n",
              "      \n",
              "  <style>\n",
              "    .colab-df-container {\n",
              "      display:flex;\n",
              "      flex-wrap:wrap;\n",
              "      gap: 12px;\n",
              "    }\n",
              "\n",
              "    .colab-df-convert {\n",
              "      background-color: #E8F0FE;\n",
              "      border: none;\n",
              "      border-radius: 50%;\n",
              "      cursor: pointer;\n",
              "      display: none;\n",
              "      fill: #1967D2;\n",
              "      height: 32px;\n",
              "      padding: 0 0 0 0;\n",
              "      width: 32px;\n",
              "    }\n",
              "\n",
              "    .colab-df-convert:hover {\n",
              "      background-color: #E2EBFA;\n",
              "      box-shadow: 0px 1px 2px rgba(60, 64, 67, 0.3), 0px 1px 3px 1px rgba(60, 64, 67, 0.15);\n",
              "      fill: #174EA6;\n",
              "    }\n",
              "\n",
              "    [theme=dark] .colab-df-convert {\n",
              "      background-color: #3B4455;\n",
              "      fill: #D2E3FC;\n",
              "    }\n",
              "\n",
              "    [theme=dark] .colab-df-convert:hover {\n",
              "      background-color: #434B5C;\n",
              "      box-shadow: 0px 1px 3px 1px rgba(0, 0, 0, 0.15);\n",
              "      filter: drop-shadow(0px 1px 2px rgba(0, 0, 0, 0.3));\n",
              "      fill: #FFFFFF;\n",
              "    }\n",
              "  </style>\n",
              "\n",
              "      <script>\n",
              "        const buttonEl =\n",
              "          document.querySelector('#df-ba1613a0-ef78-4ce5-b235-fdde9bbe51dc button.colab-df-convert');\n",
              "        buttonEl.style.display =\n",
              "          google.colab.kernel.accessAllowed ? 'block' : 'none';\n",
              "\n",
              "        async function convertToInteractive(key) {\n",
              "          const element = document.querySelector('#df-ba1613a0-ef78-4ce5-b235-fdde9bbe51dc');\n",
              "          const dataTable =\n",
              "            await google.colab.kernel.invokeFunction('convertToInteractive',\n",
              "                                                     [key], {});\n",
              "          if (!dataTable) return;\n",
              "\n",
              "          const docLinkHtml = 'Like what you see? Visit the ' +\n",
              "            '<a target=\"_blank\" href=https://colab.research.google.com/notebooks/data_table.ipynb>data table notebook</a>'\n",
              "            + ' to learn more about interactive tables.';\n",
              "          element.innerHTML = '';\n",
              "          dataTable['output_type'] = 'display_data';\n",
              "          await google.colab.output.renderOutput(dataTable, element);\n",
              "          const docLink = document.createElement('div');\n",
              "          docLink.innerHTML = docLinkHtml;\n",
              "          element.appendChild(docLink);\n",
              "        }\n",
              "      </script>\n",
              "    </div>\n",
              "  </div>\n",
              "  "
            ]
          },
          "metadata": {},
          "execution_count": 150
        }
      ]
    },
    {
      "cell_type": "code",
      "source": [
        "data['Target'].value_counts()"
      ],
      "metadata": {
        "colab": {
          "base_uri": "https://localhost:8080/"
        },
        "id": "gmMZgeD_Xc3D",
        "outputId": "8a592417-8785-493d-fe4d-86d743626f15"
      },
      "execution_count": 151,
      "outputs": [
        {
          "output_type": "execute_result",
          "data": {
            "text/plain": [
              "0    17488\n",
              "1     1616\n",
              "Name: Target, dtype: int64"
            ]
          },
          "metadata": {},
          "execution_count": 151
        }
      ]
    },
    {
      "cell_type": "markdown",
      "source": [
        "**EXPLORATORY DATA ANALYSIS AND VISUALIZATION**"
      ],
      "metadata": {
        "id": "pjWUz6m_k2J-"
      }
    },
    {
      "cell_type": "code",
      "source": [
        "data.nunique()"
      ],
      "metadata": {
        "colab": {
          "base_uri": "https://localhost:8080/"
        },
        "id": "WsgbhfuDU4vy",
        "outputId": "753c7ca4-15a2-4802-c492-3edae897a12f"
      },
      "execution_count": 152,
      "outputs": [
        {
          "output_type": "execute_result",
          "data": {
            "text/plain": [
              "MMM-YY                     24\n",
              "Emp_ID                   2381\n",
              "Age                        36\n",
              "Gender                      2\n",
              "City                       29\n",
              "Education_Level             3\n",
              "Salary                   2383\n",
              "Dateofjoining             869\n",
              "LastWorkingDate           493\n",
              "Joining Designation         5\n",
              "Designation                 5\n",
              "Total Business Value    10181\n",
              "Quarterly Rating            4\n",
              "Target                      2\n",
              "dtype: int64"
            ]
          },
          "metadata": {},
          "execution_count": 152
        }
      ]
    },
    {
      "cell_type": "code",
      "source": [
        "sns.countplot('Target', data=data)"
      ],
      "metadata": {
        "colab": {
          "base_uri": "https://localhost:8080/",
          "height": 296
        },
        "id": "Gh5w04bHbIZD",
        "outputId": "0a7a65e1-b90d-42fc-9d6a-ac281272bf65"
      },
      "execution_count": 153,
      "outputs": [
        {
          "output_type": "execute_result",
          "data": {
            "text/plain": [
              "<matplotlib.axes._subplots.AxesSubplot at 0x7f7e19a3b190>"
            ]
          },
          "metadata": {},
          "execution_count": 153
        },
        {
          "output_type": "display_data",
          "data": {
            "text/plain": [
              "<Figure size 432x288 with 1 Axes>"
            ],
            "image/png": "[encoded data removed]"
          },
          "metadata": {
            "needs_background": "light"
          }
        }
      ]
    },
    {
      "cell_type": "markdown",
      "source": [
        "The count plot on the target column shows that the data is not balanced. SMOTE might be necessary. This will be taken into considerationa after tarining models and check for the accuracy"
      ],
      "metadata": {
        "id": "64gYMrYVk8Ex"
      }
    },
    {
      "cell_type": "code",
      "source": [
        "data.columns"
      ],
      "metadata": {
        "colab": {
          "base_uri": "https://localhost:8080/"
        },
        "id": "mXPXZ0A5XvHA",
        "outputId": "5b6fec3d-4a0f-4b33-e6f1-cab55e8b35f5"
      },
      "execution_count": 154,
      "outputs": [
        {
          "output_type": "execute_result",
          "data": {
            "text/plain": [
              "Index(['MMM-YY', 'Emp_ID', 'Age', 'Gender', 'City', 'Education_Level',\n",
              "       'Salary', 'Dateofjoining', 'LastWorkingDate', 'Joining Designation',\n",
              "       'Designation', 'Total Business Value', 'Quarterly Rating', 'Target'],\n",
              "      dtype='object')"
            ]
          },
          "metadata": {},
          "execution_count": 154
        }
      ]
    },
    {
      "cell_type": "code",
      "source": [
        "sns.countplot('Gender', data=data, hue='Target')"
      ],
      "metadata": {
        "colab": {
          "base_uri": "https://localhost:8080/",
          "height": 296
        },
        "id": "tz9PF-K_bSi5",
        "outputId": "c677e86a-fede-4641-8423-8c89f9fa5b8e"
      },
      "execution_count": 155,
      "outputs": [
        {
          "output_type": "execute_result",
          "data": {
            "text/plain": [
              "<matplotlib.axes._subplots.AxesSubplot at 0x7f7e19a01a90>"
            ]
          },
          "metadata": {},
          "execution_count": 155
        },
        {
          "output_type": "display_data",
          "data": {
            "text/plain": [
              "<Figure size 432x288 with 1 Axes>"
            ],
            "image/png": "[encoded data removed]"
          },
          "metadata": {
            "needs_background": "light"
          }
        }
      ]
    },
    {
      "cell_type": "code",
      "source": [
        "sns.countplot('Education_Level', data = data,  hue = 'Target', palette = 'RdYlGn')"
      ],
      "metadata": {
        "colab": {
          "base_uri": "https://localhost:8080/",
          "height": 297
        },
        "id": "p6OMrOHobZUL",
        "outputId": "e35e1ea4-8574-4e81-fd4e-86440997c465"
      },
      "execution_count": 156,
      "outputs": [
        {
          "output_type": "execute_result",
          "data": {
            "text/plain": [
              "<matplotlib.axes._subplots.AxesSubplot at 0x7f7e19876350>"
            ]
          },
          "metadata": {},
          "execution_count": 156
        },
        {
          "output_type": "display_data",
          "data": {
            "text/plain": [
              "<Figure size 432x288 with 1 Axes>"
            ],
            "image/png": "[encoded data removed]"
          },
          "metadata": {
            "needs_background": "light"
          }
        }
      ]
    },
    {
      "cell_type": "code",
      "source": [
        "sns.countplot('Joining Designation', data=data)"
      ],
      "metadata": {
        "colab": {
          "base_uri": "https://localhost:8080/",
          "height": 296
        },
        "id": "oalONWGMbhIM",
        "outputId": "8a51ca47-8e50-430e-b860-0ccd1ccea082"
      },
      "execution_count": 157,
      "outputs": [
        {
          "output_type": "execute_result",
          "data": {
            "text/plain": [
              "<matplotlib.axes._subplots.AxesSubplot at 0x7f7e19799310>"
            ]
          },
          "metadata": {},
          "execution_count": 157
        },
        {
          "output_type": "display_data",
          "data": {
            "text/plain": [
              "<Figure size 432x288 with 1 Axes>"
            ],
            "image/png": "[encoded data removed]"
          },
          "metadata": {
            "needs_background": "light"
          }
        }
      ]
    },
    {
      "cell_type": "code",
      "source": [
        "sns.countplot('Designation', data=data)"
      ],
      "metadata": {
        "colab": {
          "base_uri": "https://localhost:8080/",
          "height": 296
        },
        "id": "PMo7g6xvcR91",
        "outputId": "ceba9b04-12ae-473b-a99c-f17919369709"
      },
      "execution_count": 158,
      "outputs": [
        {
          "output_type": "execute_result",
          "data": {
            "text/plain": [
              "<matplotlib.axes._subplots.AxesSubplot at 0x7f7e196d7810>"
            ]
          },
          "metadata": {},
          "execution_count": 158
        },
        {
          "output_type": "display_data",
          "data": {
            "text/plain": [
              "<Figure size 432x288 with 1 Axes>"
            ],
            "image/png": "[encoded data removed]"
          },
          "metadata": {
            "needs_background": "light"
          }
        }
      ]
    },
    {
      "cell_type": "code",
      "source": [
        "sns.histplot(data['Age'])"
      ],
      "metadata": {
        "colab": {
          "base_uri": "https://localhost:8080/",
          "height": 296
        },
        "id": "v1xy5xsZfLPl",
        "outputId": "788933c2-64d9-47b5-d644-88910fcf1997"
      },
      "execution_count": 159,
      "outputs": [
        {
          "output_type": "execute_result",
          "data": {
            "text/plain": [
              "<matplotlib.axes._subplots.AxesSubplot at 0x7f7e196b7450>"
            ]
          },
          "metadata": {},
          "execution_count": 159
        },
        {
          "output_type": "display_data",
          "data": {
            "text/plain": [
              "<Figure size 432x288 with 1 Axes>"
            ],
            "image/png": "[encoded data removed]"
          },
          "metadata": {
            "needs_background": "light"
          }
        }
      ]
    },
    {
      "cell_type": "code",
      "source": [
        "sns.barplot(x='Quarterly Rating',y='Total Business Value', hue = 'Education_Level', data =data, palette=\"RdYlGn_r\")"
      ],
      "metadata": {
        "colab": {
          "base_uri": "https://localhost:8080/",
          "height": 307
        },
        "id": "_jrDEWtlcjmv",
        "outputId": "865ae7fd-bc62-436c-98d0-e092cd88fa3f"
      },
      "execution_count": 160,
      "outputs": [
        {
          "output_type": "execute_result",
          "data": {
            "text/plain": [
              "<matplotlib.axes._subplots.AxesSubplot at 0x7f7e195c3410>"
            ]
          },
          "metadata": {},
          "execution_count": 160
        },
        {
          "output_type": "display_data",
          "data": {
            "text/plain": [
              "<Figure size 432x288 with 1 Axes>"
            ],
            "image/png": "[encoded data removed]"
          },
          "metadata": {
            "needs_background": "light"
          }
        }
      ]
    },
    {
      "cell_type": "code",
      "source": [
        "plt.figure(figsize=(24,8))\n",
        "plt.subplot(1,3,1)\n",
        "sns.violinplot(data=data, y='Gender', x='Salary', hue='Target', split=True, scale='count')\n",
        "plt.subplot(1,3,2)\n",
        "sns.violinplot(data=data, y='Education_Level', x='Salary', hue='Target', split=True, scale='count')\n",
        "plt.subplot(1,3,3)\n",
        "sns.violinplot(data=data, y='Education_Level', x='Total Business Value', hue='Target', split=True, scale='count')\n",
        "plt.show()"
      ],
      "metadata": {
        "colab": {
          "base_uri": "https://localhost:8080/",
          "height": 278
        },
        "id": "2ZYECM-ggKDm",
        "outputId": "bb66814f-6a40-4d54-9249-fc1ed47d9005"
      },
      "execution_count": 161,
      "outputs": [
        {
          "output_type": "display_data",
          "data": {
            "text/plain": [
              "<Figure size 1728x576 with 3 Axes>"
            ],
            "image/png": "[encoded data removed]"
          },
          "metadata": {
            "needs_background": "light"
          }
        }
      ]
    },
    {
      "cell_type": "code",
      "source": [
        "FET = data.drop(['Target', 'Emp_ID'],axis=1)\n",
        "TAR= data['Target']"
      ],
      "metadata": {
        "id": "5UrEOkPNy2C_"
      },
      "execution_count": 162,
      "outputs": []
    },
    {
      "cell_type": "code",
      "source": [
        "FET.corr()"
      ],
      "metadata": {
        "colab": {
          "base_uri": "https://localhost:8080/",
          "height": 333
        },
        "id": "9MhT-K-KymbZ",
        "outputId": "6c886b6a-6aba-443d-9076-2956077b111a"
      },
      "execution_count": 164,
      "outputs": [
        {
          "output_type": "execute_result",
          "data": {
            "text/plain": [
              "                           Age    Salary  Joining Designation  Designation  \\\n",
              "Age                   1.000000  0.192225            -0.005726     0.211515   \n",
              "Salary                0.192225  1.000000             0.380878     0.778383   \n",
              "Joining Designation  -0.005726  0.380878             1.000000     0.559854   \n",
              "Designation           0.211515  0.778383             0.559854     1.000000   \n",
              "Total Business Value  0.109426  0.234044            -0.044446     0.220955   \n",
              "Quarterly Rating      0.172660  0.116897            -0.237791     0.014445   \n",
              "\n",
              "                      Total Business Value  Quarterly Rating  \n",
              "Age                               0.109426          0.172660  \n",
              "Salary                            0.234044          0.116897  \n",
              "Joining Designation              -0.044446         -0.237791  \n",
              "Designation                       0.220955          0.014445  \n",
              "Total Business Value              1.000000          0.471224  \n",
              "Quarterly Rating                  0.471224          1.000000  "
            ],
            "text/html": [
              "\n",
              "  <div id=\"df-8cc4b69a-a74a-4953-9248-8d6f5a79de5e\">\n",
              "    <div class=\"colab-df-container\">\n",
              "      <div>\n",
              "<style scoped>\n",
              "    .dataframe tbody tr th:only-of-type {\n",
              "        vertical-align: middle;\n",
              "    }\n",
              "\n",
              "    .dataframe tbody tr th {\n",
              "        vertical-align: top;\n",
              "    }\n",
              "\n",
              "    .dataframe thead th {\n",
              "        text-align: right;\n",
              "    }\n",
              "</style>\n",
              "<table border=\"1\" class=\"dataframe\">\n",
              "  <thead>\n",
              "    <tr style=\"text-align: right;\">\n",
              "      <th></th>\n",
              "      <th>Age</th>\n",
              "      <th>Salary</th>\n",
              "      <th>Joining Designation</th>\n",
              "      <th>Designation</th>\n",
              "      <th>Total Business Value</th>\n",
              "      <th>Quarterly Rating</th>\n",
              "    </tr>\n",
              "  </thead>\n",
              "  <tbody>\n",
              "    <tr>\n",
              "      <th>Age</th>\n",
              "      <td>1.000000</td>\n",
              "      <td>0.192225</td>\n",
              "      <td>-0.005726</td>\n",
              "      <td>0.211515</td>\n",
              "      <td>0.109426</td>\n",
              "      <td>0.172660</td>\n",
              "    </tr>\n",
              "    <tr>\n",
              "      <th>Salary</th>\n",
              "      <td>0.192225</td>\n",
              "      <td>1.000000</td>\n",
              "      <td>0.380878</td>\n",
              "      <td>0.778383</td>\n",
              "      <td>0.234044</td>\n",
              "      <td>0.116897</td>\n",
              "    </tr>\n",
              "    <tr>\n",
              "      <th>Joining Designation</th>\n",
              "      <td>-0.005726</td>\n",
              "      <td>0.380878</td>\n",
              "      <td>1.000000</td>\n",
              "      <td>0.559854</td>\n",
              "      <td>-0.044446</td>\n",
              "      <td>-0.237791</td>\n",
              "    </tr>\n",
              "    <tr>\n",
              "      <th>Designation</th>\n",
              "      <td>0.211515</td>\n",
              "      <td>0.778383</td>\n",
              "      <td>0.559854</td>\n",
              "      <td>1.000000</td>\n",
              "      <td>0.220955</td>\n",
              "      <td>0.014445</td>\n",
              "    </tr>\n",
              "    <tr>\n",
              "      <th>Total Business Value</th>\n",
              "      <td>0.109426</td>\n",
              "      <td>0.234044</td>\n",
              "      <td>-0.044446</td>\n",
              "      <td>0.220955</td>\n",
              "      <td>1.000000</td>\n",
              "      <td>0.471224</td>\n",
              "    </tr>\n",
              "    <tr>\n",
              "      <th>Quarterly Rating</th>\n",
              "      <td>0.172660</td>\n",
              "      <td>0.116897</td>\n",
              "      <td>-0.237791</td>\n",
              "      <td>0.014445</td>\n",
              "      <td>0.471224</td>\n",
              "      <td>1.000000</td>\n",
              "    </tr>\n",
              "  </tbody>\n",
              "</table>\n",
              "</div>\n",
              "      <button class=\"colab-df-convert\" onclick=\"convertToInteractive('df-8cc4b69a-a74a-4953-9248-8d6f5a79de5e')\"\n",
              "              title=\"Convert this dataframe to an interactive table.\"\n",
              "              style=\"display:none;\">\n",
              "        \n",
              "  <svg xmlns=\"http://www.w3.org/2000/svg\" height=\"24px\"viewBox=\"0 0 24 24\"\n",
              "       width=\"24px\">\n",
              "    <path d=\"M0 0h24v24H0V0z\" fill=\"none\"/>\n",
              "    <path d=\"M18.56 5.44l.94 2.06.94-2.06 2.06-.94-2.06-.94-.94-2.06-.94 2.06-2.06.94zm-11 1L8.5 8.5l.94-2.06 2.06-.94-2.06-.94L8.5 2.5l-.94 2.06-2.06.94zm10 10l.94 2.06.94-2.06 2.06-.94-2.06-.94-.94-2.06-.94 2.06-2.06.94z\"/><path d=\"M17.41 7.96l-1.37-1.37c-.4-.4-.92-.59-1.43-.59-.52 0-1.04.2-1.43.59L10.3 9.45l-7.72 7.72c-.78.78-.78 2.05 0 2.83L4 21.41c.39.39.9.59 1.41.59.51 0 1.02-.2 1.41-.59l7.78-7.78 2.81-2.81c.8-.78.8-2.07 0-2.86zM5.41 20L4 18.59l7.72-7.72 1.47 1.35L5.41 20z\"/>\n",
              "  </svg>\n",
              "      </button>\n",
              "      \n",
              "  <style>\n",
              "    .colab-df-container {\n",
              "      display:flex;\n",
              "      flex-wrap:wrap;\n",
              "      gap: 12px;\n",
              "    }\n",
              "\n",
              "    .colab-df-convert {\n",
              "      background-color: #E8F0FE;\n",
              "      border: none;\n",
              "      border-radius: 50%;\n",
              "      cursor: pointer;\n",
              "      display: none;\n",
              "      fill: #1967D2;\n",
              "      height: 32px;\n",
              "      padding: 0 0 0 0;\n",
              "      width: 32px;\n",
              "    }\n",
              "\n",
              "    .colab-df-convert:hover {\n",
              "      background-color: #E2EBFA;\n",
              "      box-shadow: 0px 1px 2px rgba(60, 64, 67, 0.3), 0px 1px 3px 1px rgba(60, 64, 67, 0.15);\n",
              "      fill: #174EA6;\n",
              "    }\n",
              "\n",
              "    [theme=dark] .colab-df-convert {\n",
              "      background-color: #3B4455;\n",
              "      fill: #D2E3FC;\n",
              "    }\n",
              "\n",
              "    [theme=dark] .colab-df-convert:hover {\n",
              "      background-color: #434B5C;\n",
              "      box-shadow: 0px 1px 3px 1px rgba(0, 0, 0, 0.15);\n",
              "      filter: drop-shadow(0px 1px 2px rgba(0, 0, 0, 0.3));\n",
              "      fill: #FFFFFF;\n",
              "    }\n",
              "  </style>\n",
              "\n",
              "      <script>\n",
              "        const buttonEl =\n",
              "          document.querySelector('#df-8cc4b69a-a74a-4953-9248-8d6f5a79de5e button.colab-df-convert');\n",
              "        buttonEl.style.display =\n",
              "          google.colab.kernel.accessAllowed ? 'block' : 'none';\n",
              "\n",
              "        async function convertToInteractive(key) {\n",
              "          const element = document.querySelector('#df-8cc4b69a-a74a-4953-9248-8d6f5a79de5e');\n",
              "          const dataTable =\n",
              "            await google.colab.kernel.invokeFunction('convertToInteractive',\n",
              "                                                     [key], {});\n",
              "          if (!dataTable) return;\n",
              "\n",
              "          const docLinkHtml = 'Like what you see? Visit the ' +\n",
              "            '<a target=\"_blank\" href=https://colab.research.google.com/notebooks/data_table.ipynb>data table notebook</a>'\n",
              "            + ' to learn more about interactive tables.';\n",
              "          element.innerHTML = '';\n",
              "          dataTable['output_type'] = 'display_data';\n",
              "          await google.colab.output.renderOutput(dataTable, element);\n",
              "          const docLink = document.createElement('div');\n",
              "          docLink.innerHTML = docLinkHtml;\n",
              "          element.appendChild(docLink);\n",
              "        }\n",
              "      </script>\n",
              "    </div>\n",
              "  </div>\n",
              "  "
            ]
          },
          "metadata": {},
          "execution_count": 164
        }
      ]
    },
    {
      "cell_type": "code",
      "source": [
        "FET.corrwith(TAR).plot.bar(figsize = (16, 4), title = \"Correlation of numerical variables with target\", fontsize = 15, rot = 90, grid = True)"
      ],
      "metadata": {
        "colab": {
          "base_uri": "https://localhost:8080/",
          "height": 360
        },
        "id": "4Fzv419JLM4q",
        "outputId": "24f3c29f-4f83-4d9f-f438-9976c6cdf05b"
      },
      "execution_count": 163,
      "outputs": [
        {
          "output_type": "execute_result",
          "data": {
            "text/plain": [
              "<matplotlib.axes._subplots.AxesSubplot at 0x7f7e191c9dd0>"
            ]
          },
          "metadata": {},
          "execution_count": 163
        },
        {
          "output_type": "display_data",
          "data": {
            "text/plain": [
              "<Figure size 1152x288 with 1 Axes>"
            ],
            "image/png": "[encoded data removed]"
          },
          "metadata": {
            "needs_background": "light"
          }
        }
      ]
    },
    {
      "cell_type": "code",
      "source": [
        "plt.figure(figsize=(10,8))\n",
        "sns.heatmap(FET.corr(), annot=True)"
      ],
      "metadata": {
        "colab": {
          "base_uri": "https://localhost:8080/",
          "height": 595
        },
        "id": "6vkm4l2UzYIs",
        "outputId": "030b9902-3160-40ca-d068-875e4357aa95"
      },
      "execution_count": 184,
      "outputs": [
        {
          "output_type": "execute_result",
          "data": {
            "text/plain": [
              "<matplotlib.axes._subplots.AxesSubplot at 0x7f7e18ff0bd0>"
            ]
          },
          "metadata": {},
          "execution_count": 184
        },
        {
          "output_type": "display_data",
          "data": {
            "text/plain": [
              "<Figure size 720x576 with 2 Axes>"
            ],
            "image/png": "[encoded data removed]"
          },
          "metadata": {
            "needs_background": "light"
          }
        }
      ]
    },
    {
      "cell_type": "markdown",
      "source": [
        "*The correlation plot show that all numerical variales but joining designation are negatively related to the attrition variable (target). This makes sense. However, the company needs to work on intial designation. *"
      ],
      "metadata": {
        "id": "S7LhpaonmV1_"
      }
    },
    {
      "cell_type": "markdown",
      "source": [
        "**ENCODING CATEGORICAL VARIABLES AND DROPING UNNECESSARY COLUMNS**"
      ],
      "metadata": {
        "id": "kALgbBSUnIrK"
      }
    },
    {
      "cell_type": "code",
      "source": [
        "data=data.drop(columns=['MMM-YY', 'Emp_ID', 'LastWorkingDate', 'Dateofjoining'], axis =1)"
      ],
      "metadata": {
        "id": "MqXyjV0uoiJw"
      },
      "execution_count": 165,
      "outputs": []
    },
    {
      "cell_type": "code",
      "source": [
        "from sklearn.preprocessing import LabelEncoder\n",
        "encode = LabelEncoder()\n",
        "data['Gender'] = encode.fit_transform(data['Gender'])\n",
        "data['City'] = encode.fit_transform(data['City'])\n",
        "data['Education_Level'] = encode.fit_transform(data['Education_Level'])"
      ],
      "metadata": {
        "id": "8jqDXCTGjhdz"
      },
      "execution_count": 166,
      "outputs": []
    },
    {
      "cell_type": "code",
      "source": [
        "data = data.drop_duplicates()"
      ],
      "metadata": {
        "id": "RovAyUVOrLtd"
      },
      "execution_count": 167,
      "outputs": []
    },
    {
      "cell_type": "code",
      "source": [
        "data.head()"
      ],
      "metadata": {
        "colab": {
          "base_uri": "https://localhost:8080/",
          "height": 305
        },
        "id": "EDDIF-d2rQAS",
        "outputId": "eccc086a-3662-4eba-b76e-fdb00038e884"
      },
      "execution_count": 168,
      "outputs": [
        {
          "output_type": "execute_result",
          "data": {
            "text/plain": [
              "   Age  Gender  City  Education_Level  Salary  Joining Designation  \\\n",
              "0   28       1    15                2   57387                    1   \n",
              "1   28       1    15                2   57387                    1   \n",
              "2   28       1    15                2   57387                    1   \n",
              "3   31       1    26                2   67016                    2   \n",
              "5   43       1     4                2   65603                    2   \n",
              "\n",
              "   Designation  Total Business Value  Quarterly Rating  Target  \n",
              "0            1               2381060                 2       0  \n",
              "1            1               -665480                 2       0  \n",
              "2            1                     0                 2       1  \n",
              "3            2                     0                 1       0  \n",
              "5            2                     0                 1       0  "
            ],
            "text/html": [
              "\n",
              "  <div id=\"df-3ddc022d-d3f7-41b0-884d-02d444b146bf\">\n",
              "    <div class=\"colab-df-container\">\n",
              "      <div>\n",
              "<style scoped>\n",
              "    .dataframe tbody tr th:only-of-type {\n",
              "        vertical-align: middle;\n",
              "    }\n",
              "\n",
              "    .dataframe tbody tr th {\n",
              "        vertical-align: top;\n",
              "    }\n",
              "\n",
              "    .dataframe thead th {\n",
              "        text-align: right;\n",
              "    }\n",
              "</style>\n",
              "<table border=\"1\" class=\"dataframe\">\n",
              "  <thead>\n",
              "    <tr style=\"text-align: right;\">\n",
              "      <th></th>\n",
              "      <th>Age</th>\n",
              "      <th>Gender</th>\n",
              "      <th>City</th>\n",
              "      <th>Education_Level</th>\n",
              "      <th>Salary</th>\n",
              "      <th>Joining Designation</th>\n",
              "      <th>Designation</th>\n",
              "      <th>Total Business Value</th>\n",
              "      <th>Quarterly Rating</th>\n",
              "      <th>Target</th>\n",
              "    </tr>\n",
              "  </thead>\n",
              "  <tbody>\n",
              "    <tr>\n",
              "      <th>0</th>\n",
              "      <td>28</td>\n",
              "      <td>1</td>\n",
              "      <td>15</td>\n",
              "      <td>2</td>\n",
              "      <td>57387</td>\n",
              "      <td>1</td>\n",
              "      <td>1</td>\n",
              "      <td>2381060</td>\n",
              "      <td>2</td>\n",
              "      <td>0</td>\n",
              "    </tr>\n",
              "    <tr>\n",
              "      <th>1</th>\n",
              "      <td>28</td>\n",
              "      <td>1</td>\n",
              "      <td>15</td>\n",
              "      <td>2</td>\n",
              "      <td>57387</td>\n",
              "      <td>1</td>\n",
              "      <td>1</td>\n",
              "      <td>-665480</td>\n",
              "      <td>2</td>\n",
              "      <td>0</td>\n",
              "    </tr>\n",
              "    <tr>\n",
              "      <th>2</th>\n",
              "      <td>28</td>\n",
              "      <td>1</td>\n",
              "      <td>15</td>\n",
              "      <td>2</td>\n",
              "      <td>57387</td>\n",
              "      <td>1</td>\n",
              "      <td>1</td>\n",
              "      <td>0</td>\n",
              "      <td>2</td>\n",
              "      <td>1</td>\n",
              "    </tr>\n",
              "    <tr>\n",
              "      <th>3</th>\n",
              "      <td>31</td>\n",
              "      <td>1</td>\n",
              "      <td>26</td>\n",
              "      <td>2</td>\n",
              "      <td>67016</td>\n",
              "      <td>2</td>\n",
              "      <td>2</td>\n",
              "      <td>0</td>\n",
              "      <td>1</td>\n",
              "      <td>0</td>\n",
              "    </tr>\n",
              "    <tr>\n",
              "      <th>5</th>\n",
              "      <td>43</td>\n",
              "      <td>1</td>\n",
              "      <td>4</td>\n",
              "      <td>2</td>\n",
              "      <td>65603</td>\n",
              "      <td>2</td>\n",
              "      <td>2</td>\n",
              "      <td>0</td>\n",
              "      <td>1</td>\n",
              "      <td>0</td>\n",
              "    </tr>\n",
              "  </tbody>\n",
              "</table>\n",
              "</div>\n",
              "      <button class=\"colab-df-convert\" onclick=\"convertToInteractive('df-3ddc022d-d3f7-41b0-884d-02d444b146bf')\"\n",
              "              title=\"Convert this dataframe to an interactive table.\"\n",
              "              style=\"display:none;\">\n",
              "        \n",
              "  <svg xmlns=\"http://www.w3.org/2000/svg\" height=\"24px\"viewBox=\"0 0 24 24\"\n",
              "       width=\"24px\">\n",
              "    <path d=\"M0 0h24v24H0V0z\" fill=\"none\"/>\n",
              "    <path d=\"M18.56 5.44l.94 2.06.94-2.06 2.06-.94-2.06-.94-.94-2.06-.94 2.06-2.06.94zm-11 1L8.5 8.5l.94-2.06 2.06-.94-2.06-.94L8.5 2.5l-.94 2.06-2.06.94zm10 10l.94 2.06.94-2.06 2.06-.94-2.06-.94-.94-2.06-.94 2.06-2.06.94z\"/><path d=\"M17.41 7.96l-1.37-1.37c-.4-.4-.92-.59-1.43-.59-.52 0-1.04.2-1.43.59L10.3 9.45l-7.72 7.72c-.78.78-.78 2.05 0 2.83L4 21.41c.39.39.9.59 1.41.59.51 0 1.02-.2 1.41-.59l7.78-7.78 2.81-2.81c.8-.78.8-2.07 0-2.86zM5.41 20L4 18.59l7.72-7.72 1.47 1.35L5.41 20z\"/>\n",
              "  </svg>\n",
              "      </button>\n",
              "      \n",
              "  <style>\n",
              "    .colab-df-container {\n",
              "      display:flex;\n",
              "      flex-wrap:wrap;\n",
              "      gap: 12px;\n",
              "    }\n",
              "\n",
              "    .colab-df-convert {\n",
              "      background-color: #E8F0FE;\n",
              "      border: none;\n",
              "      border-radius: 50%;\n",
              "      cursor: pointer;\n",
              "      display: none;\n",
              "      fill: #1967D2;\n",
              "      height: 32px;\n",
              "      padding: 0 0 0 0;\n",
              "      width: 32px;\n",
              "    }\n",
              "\n",
              "    .colab-df-convert:hover {\n",
              "      background-color: #E2EBFA;\n",
              "      box-shadow: 0px 1px 2px rgba(60, 64, 67, 0.3), 0px 1px 3px 1px rgba(60, 64, 67, 0.15);\n",
              "      fill: #174EA6;\n",
              "    }\n",
              "\n",
              "    [theme=dark] .colab-df-convert {\n",
              "      background-color: #3B4455;\n",
              "      fill: #D2E3FC;\n",
              "    }\n",
              "\n",
              "    [theme=dark] .colab-df-convert:hover {\n",
              "      background-color: #434B5C;\n",
              "      box-shadow: 0px 1px 3px 1px rgba(0, 0, 0, 0.15);\n",
              "      filter: drop-shadow(0px 1px 2px rgba(0, 0, 0, 0.3));\n",
              "      fill: #FFFFFF;\n",
              "    }\n",
              "  </style>\n",
              "\n",
              "      <script>\n",
              "        const buttonEl =\n",
              "          document.querySelector('#df-3ddc022d-d3f7-41b0-884d-02d444b146bf button.colab-df-convert');\n",
              "        buttonEl.style.display =\n",
              "          google.colab.kernel.accessAllowed ? 'block' : 'none';\n",
              "\n",
              "        async function convertToInteractive(key) {\n",
              "          const element = document.querySelector('#df-3ddc022d-d3f7-41b0-884d-02d444b146bf');\n",
              "          const dataTable =\n",
              "            await google.colab.kernel.invokeFunction('convertToInteractive',\n",
              "                                                     [key], {});\n",
              "          if (!dataTable) return;\n",
              "\n",
              "          const docLinkHtml = 'Like what you see? Visit the ' +\n",
              "            '<a target=\"_blank\" href=https://colab.research.google.com/notebooks/data_table.ipynb>data table notebook</a>'\n",
              "            + ' to learn more about interactive tables.';\n",
              "          element.innerHTML = '';\n",
              "          dataTable['output_type'] = 'display_data';\n",
              "          await google.colab.output.renderOutput(dataTable, element);\n",
              "          const docLink = document.createElement('div');\n",
              "          docLink.innerHTML = docLinkHtml;\n",
              "          element.appendChild(docLink);\n",
              "        }\n",
              "      </script>\n",
              "    </div>\n",
              "  </div>\n",
              "  "
            ]
          },
          "metadata": {},
          "execution_count": 168
        }
      ]
    },
    {
      "cell_type": "code",
      "source": [
        "data.shape"
      ],
      "metadata": {
        "colab": {
          "base_uri": "https://localhost:8080/"
        },
        "id": "pLujH0YTrTfs",
        "outputId": "25df302f-0ceb-4279-ed20-9b8dc69e7448"
      },
      "execution_count": 169,
      "outputs": [
        {
          "output_type": "execute_result",
          "data": {
            "text/plain": [
              "(16695, 10)"
            ]
          },
          "metadata": {},
          "execution_count": 169
        }
      ]
    },
    {
      "cell_type": "markdown",
      "source": [
        "**SPLITTING DATA INTO TRAINING AND TEST SET**"
      ],
      "metadata": {
        "id": "bbe-xJeRrg-q"
      }
    },
    {
      "cell_type": "code",
      "source": [
        "from sklearn.model_selection import train_test_split\n",
        "train, test = train_test_split(data, test_size=0.20)"
      ],
      "metadata": {
        "id": "PyX0X_2KrfCc"
      },
      "execution_count": 170,
      "outputs": []
    },
    {
      "cell_type": "code",
      "source": [
        "X_train = train.drop(['Target'], axis = 1)\n",
        "y_train = train['Target']           \n",
        "print('Dimension of train_x dataframe:',X_train.shape)\n",
        "print('Dimension of train_y dataframe:',y_train.shape)"
      ],
      "metadata": {
        "colab": {
          "base_uri": "https://localhost:8080/"
        },
        "id": "rZgB7-lurn_a",
        "outputId": "28d35635-d160-4d49-bc73-5f700942c257"
      },
      "execution_count": 171,
      "outputs": [
        {
          "output_type": "stream",
          "name": "stdout",
          "text": [
            "Dimension of train_x dataframe: (13356, 9)\n",
            "Dimension of train_y dataframe: (13356,)\n"
          ]
        }
      ]
    },
    {
      "cell_type": "code",
      "source": [
        "X_test = test.drop(['Target'], axis = 1)\n",
        "y_test = test['Target']           \n",
        "print('Dimension of train_x dataframe:',X_test.shape)\n",
        "print('Dimension of train_y dataframe:',y_test.shape)"
      ],
      "metadata": {
        "colab": {
          "base_uri": "https://localhost:8080/"
        },
        "id": "NqKV6rngrtj0",
        "outputId": "22208406-d395-4929-b9d5-56c982767707"
      },
      "execution_count": 172,
      "outputs": [
        {
          "output_type": "stream",
          "name": "stdout",
          "text": [
            "Dimension of train_x dataframe: (3339, 9)\n",
            "Dimension of train_y dataframe: (3339,)\n"
          ]
        }
      ]
    },
    {
      "cell_type": "markdown",
      "source": [
        "**SCALING**"
      ],
      "metadata": {
        "id": "hU77oaWNr5Dw"
      }
    },
    {
      "cell_type": "code",
      "source": [
        "from sklearn.preprocessing import StandardScaler\n",
        "sc = StandardScaler()\n",
        "X_train = sc.fit_transform(X_train)\n",
        "X_test = sc.transform(X_test)"
      ],
      "metadata": {
        "id": "aZGGTshJr3Uo"
      },
      "execution_count": 173,
      "outputs": []
    },
    {
      "cell_type": "markdown",
      "source": [
        "**MODEL TRAINING AND VALIDATION**"
      ],
      "metadata": {
        "id": "fBkqjB_CsCUm"
      }
    },
    {
      "cell_type": "markdown",
      "source": [
        "**LOGISTIC REGRESSION**"
      ],
      "metadata": {
        "id": "MexjVTv-uXf_"
      }
    },
    {
      "cell_type": "code",
      "source": [
        "from sklearn.linear_model import LogisticRegression\n",
        "regressor = LogisticRegression()\n",
        "regressor.fit(X_train, y_train)"
      ],
      "metadata": {
        "colab": {
          "base_uri": "https://localhost:8080/"
        },
        "id": "y2itpktLsK8H",
        "outputId": "9d296435-e058-488b-b8db-ef4661d2b0ef"
      },
      "execution_count": 174,
      "outputs": [
        {
          "output_type": "execute_result",
          "data": {
            "text/plain": [
              "LogisticRegression()"
            ]
          },
          "metadata": {},
          "execution_count": 174
        }
      ]
    },
    {
      "cell_type": "code",
      "source": [
        "from sklearn.metrics import classification_report ,confusion_matrix, accuracy_score\n",
        "y_pred = regressor.predict(X_test)\n",
        "print(\"Accuracy: \", accuracy_score(y_test, y_pred))\n",
        "print(\"Confusion Matrix: \", confusion_matrix(y_test, y_pred))\n",
        "print(classification_report(y_test, y_pred))"
      ],
      "metadata": {
        "colab": {
          "base_uri": "https://localhost:8080/"
        },
        "id": "mjGtAcgdtIbI",
        "outputId": "b6c9e359-28a1-4491-ad09-aa8a283820cb"
      },
      "execution_count": 175,
      "outputs": [
        {
          "output_type": "stream",
          "name": "stdout",
          "text": [
            "Accuracy:  0.8984725965858041\n",
            "Confusion Matrix:  [[3000   11]\n",
            " [ 328    0]]\n",
            "              precision    recall  f1-score   support\n",
            "\n",
            "           0       0.90      1.00      0.95      3011\n",
            "           1       0.00      0.00      0.00       328\n",
            "\n",
            "    accuracy                           0.90      3339\n",
            "   macro avg       0.45      0.50      0.47      3339\n",
            "weighted avg       0.81      0.90      0.85      3339\n",
            "\n"
          ]
        }
      ]
    },
    {
      "cell_type": "markdown",
      "source": [
        "**KNEIGHBORS CLASSIFIER**"
      ],
      "metadata": {
        "id": "E1AGubI2vZ1q"
      }
    },
    {
      "cell_type": "markdown",
      "source": [
        "K=3"
      ],
      "metadata": {
        "id": "aeBVgQ7xvgQT"
      }
    },
    {
      "cell_type": "code",
      "source": [
        "from sklearn.neighbors import KNeighborsClassifier\n",
        "knn = KNeighborsClassifier(n_neighbors=3)\n",
        "knn.fit(X_train, y_train)\n",
        "y_pred = knn.predict(X_test)\n",
        "print(\"Accuracy: \", accuracy_score(y_test, y_pred))\n",
        "print(\"Confusion Matrix: \", confusion_matrix(y_test, y_pred))\n",
        "print(classification_report(y_test, y_pred))"
      ],
      "metadata": {
        "colab": {
          "base_uri": "https://localhost:8080/"
        },
        "id": "CUleHV9PvZhD",
        "outputId": "0e1713c2-4a37-4cf5-c79c-4738b87e09a4"
      },
      "execution_count": 176,
      "outputs": [
        {
          "output_type": "stream",
          "name": "stdout",
          "text": [
            "Accuracy:  0.8643306379155435\n",
            "Confusion Matrix:  [[2865  146]\n",
            " [ 307   21]]\n",
            "              precision    recall  f1-score   support\n",
            "\n",
            "           0       0.90      0.95      0.93      3011\n",
            "           1       0.13      0.06      0.08       328\n",
            "\n",
            "    accuracy                           0.86      3339\n",
            "   macro avg       0.51      0.51      0.51      3339\n",
            "weighted avg       0.83      0.86      0.84      3339\n",
            "\n"
          ]
        }
      ]
    },
    {
      "cell_type": "markdown",
      "source": [
        "K=5"
      ],
      "metadata": {
        "id": "sbxeDw53vp2L"
      }
    },
    {
      "cell_type": "code",
      "source": [
        "knn = KNeighborsClassifier(n_neighbors=5)\n",
        "knn.fit(X_train, y_train)\n",
        "y_pred = knn.predict(X_test)\n",
        "print(\"Accuracy: \", accuracy_score(y_test, y_pred))\n",
        "print(\"Confusion Matrix: \", confusion_matrix(y_test, y_pred))\n",
        "print(classification_report(y_test, y_pred))"
      ],
      "metadata": {
        "colab": {
          "base_uri": "https://localhost:8080/"
        },
        "id": "HCPRQglevl3d",
        "outputId": "f92fb0ea-c6c5-4b10-fe3a-623c3dd14ff2"
      },
      "execution_count": 177,
      "outputs": [
        {
          "output_type": "stream",
          "name": "stdout",
          "text": [
            "Accuracy:  0.8772087451332734\n",
            "Confusion Matrix:  [[2917   94]\n",
            " [ 316   12]]\n",
            "              precision    recall  f1-score   support\n",
            "\n",
            "           0       0.90      0.97      0.93      3011\n",
            "           1       0.11      0.04      0.06       328\n",
            "\n",
            "    accuracy                           0.88      3339\n",
            "   macro avg       0.51      0.50      0.49      3339\n",
            "weighted avg       0.82      0.88      0.85      3339\n",
            "\n"
          ]
        }
      ]
    },
    {
      "cell_type": "markdown",
      "source": [
        "**NAiVE BAYES**"
      ],
      "metadata": {
        "id": "Fg2vNh6zv3qR"
      }
    },
    {
      "cell_type": "code",
      "source": [
        "from sklearn.naive_bayes import GaussianNB\n",
        "nvclassifier = GaussianNB()\n",
        "nvclassifier.fit(X_train, y_train)\n",
        "y_pred = nvclassifier.predict(X_test)\n",
        "print(\"Accuracy: \", accuracy_score(y_test, y_pred))\n",
        "print(\"Confusion Matrix: \", confusion_matrix(y_test, y_pred))\n",
        "print(classification_report(y_test, y_pred))"
      ],
      "metadata": {
        "colab": {
          "base_uri": "https://localhost:8080/"
        },
        "id": "Vf3x0YPkv7Y1",
        "outputId": "ac1369ef-1552-4613-bdcb-0ece71bfd8e1"
      },
      "execution_count": 178,
      "outputs": [
        {
          "output_type": "stream",
          "name": "stdout",
          "text": [
            "Accuracy:  0.7942497753818508\n",
            "Confusion Matrix:  [[2386  625]\n",
            " [  62  266]]\n",
            "              precision    recall  f1-score   support\n",
            "\n",
            "           0       0.97      0.79      0.87      3011\n",
            "           1       0.30      0.81      0.44       328\n",
            "\n",
            "    accuracy                           0.79      3339\n",
            "   macro avg       0.64      0.80      0.66      3339\n",
            "weighted avg       0.91      0.79      0.83      3339\n",
            "\n"
          ]
        }
      ]
    },
    {
      "cell_type": "markdown",
      "source": [
        "Since the dataset is imbalanced, the model accuracy for logstic regression and KNNis very poor! But Naive Baye's performed very well.  Let's try SMOTE and see the difference."
      ],
      "metadata": {
        "id": "odSkZXwztgxl"
      }
    },
    {
      "cell_type": "markdown",
      "source": [
        "**SMOTE**"
      ],
      "metadata": {
        "id": "tsy_XKcEtqPF"
      }
    },
    {
      "cell_type": "code",
      "source": [
        "from imblearn.over_sampling import SMOTE\n",
        "smote = SMOTE()\n",
        "X_train_smote, y_train_smote = smote.fit_resample (X_train, y_train)\n",
        "from collections import Counter\n",
        "print(\"Before SMOTE: \", Counter(y_train))\n",
        "print(\"After SMOTE: \", Counter(y_train_smote))"
      ],
      "metadata": {
        "colab": {
          "base_uri": "https://localhost:8080/"
        },
        "id": "unO2xUI3ts5i",
        "outputId": "b0a94d6e-4623-4348-d3f4-f6066a7d5791"
      },
      "execution_count": 179,
      "outputs": [
        {
          "output_type": "stream",
          "name": "stdout",
          "text": [
            "Before SMOTE:  Counter({0: 12068, 1: 1288})\n",
            "After SMOTE:  Counter({0: 12068, 1: 12068})\n"
          ]
        }
      ]
    },
    {
      "cell_type": "markdown",
      "source": [
        "**LOGISTIC REGRESSION (AFTER SMOTE)**"
      ],
      "metadata": {
        "id": "6tuwMqJqud1k"
      }
    },
    {
      "cell_type": "code",
      "source": [
        "regressor.fit(X_train_smote, y_train_smote)\n",
        "y_pred = regressor.predict(X_test)\n",
        "print(\"Accuracy: \", accuracy_score(y_test, y_pred))\n",
        "print(\"Confusion Matrix: \", confusion_matrix(y_test, y_pred))\n",
        "print(classification_report(y_test, y_pred))"
      ],
      "metadata": {
        "colab": {
          "base_uri": "https://localhost:8080/"
        },
        "id": "PgzmO7FNt8hP",
        "outputId": "1cb356ad-2d62-4fd8-a111-f675380ca6c6"
      },
      "execution_count": 180,
      "outputs": [
        {
          "output_type": "stream",
          "name": "stdout",
          "text": [
            "Accuracy:  0.7651991614255765\n",
            "Confusion Matrix:  [[2258  753]\n",
            " [  31  297]]\n",
            "              precision    recall  f1-score   support\n",
            "\n",
            "           0       0.99      0.75      0.85      3011\n",
            "           1       0.28      0.91      0.43       328\n",
            "\n",
            "    accuracy                           0.77      3339\n",
            "   macro avg       0.63      0.83      0.64      3339\n",
            "weighted avg       0.92      0.77      0.81      3339\n",
            "\n"
          ]
        }
      ]
    },
    {
      "cell_type": "markdown",
      "source": [
        "**K-NEIGHBORS CLASSIFIER (AFTER SMOTE)**"
      ],
      "metadata": {
        "id": "jZHNzNI3wdHB"
      }
    },
    {
      "cell_type": "code",
      "source": [
        "knn.fit(X_train_smote, y_train_smote)\n",
        "y_pred = knn.predict(X_test)\n",
        "print(\"Accuracy: \", accuracy_score(y_test, y_pred))\n",
        "print(\"Confusion Matrix: \", confusion_matrix(y_test, y_pred))\n",
        "print(classification_report(y_test, y_pred))"
      ],
      "metadata": {
        "colab": {
          "base_uri": "https://localhost:8080/"
        },
        "id": "hB-SgJK-woFq",
        "outputId": "554e7652-902c-4da7-dd66-82a2022462e1"
      },
      "execution_count": 181,
      "outputs": [
        {
          "output_type": "stream",
          "name": "stdout",
          "text": [
            "Accuracy:  0.7669961066187482\n",
            "Confusion Matrix:  [[2398  613]\n",
            " [ 165  163]]\n",
            "              precision    recall  f1-score   support\n",
            "\n",
            "           0       0.94      0.80      0.86      3011\n",
            "           1       0.21      0.50      0.30       328\n",
            "\n",
            "    accuracy                           0.77      3339\n",
            "   macro avg       0.57      0.65      0.58      3339\n",
            "weighted avg       0.86      0.77      0.80      3339\n",
            "\n"
          ]
        }
      ]
    },
    {
      "cell_type": "markdown",
      "source": [
        "SMOTE has siginificantly improved the model accuracy!"
      ],
      "metadata": {
        "id": "0D3mnbi7uIsl"
      }
    },
    {
      "cell_type": "markdown",
      "source": [
        "**CONCLUSION: **Naive Baye's model is the best to predict employee attrition for the given dataset with overall model accuracy of 80%"
      ],
      "metadata": {
        "id": "M6-rvKhTxbaX"
      }
    }
  ]
}